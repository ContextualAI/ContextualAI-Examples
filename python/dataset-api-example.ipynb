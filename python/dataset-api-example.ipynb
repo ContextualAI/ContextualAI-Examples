{
  "nbformat": 4,
  "nbformat_minor": 0,
  "metadata": {
    "colab": {
      "provenance": []
    },
    "kernelspec": {
      "name": "python3",
      "display_name": "Python 3"
    },
    "language_info": {
      "name": "python"
    }
  },
  "cells": [
    {
      "cell_type": "markdown",
      "source": [
        "<img src=\"https://imagedelivery.net/Dr98IMl5gQ9tPkFM5JRcng/3e5f6fbd-9bc6-4aa1-368e-e8bb1d6ca100/Ultra\" alt=\"Image description\" width=\"160\" />\n",
        "\n",
        "Introduction to Contextual AI Platform\n",
        "\n",
        "The Contextual APIs provide a simple interface to our state-of-the-art Contextual Language Models (CLMs). Use this guide to learn the basics of how to create your first application programmatically. In this demo, we will be creating a RAG application for financial documents.\n",
        "\n",
        "To run this notebook interactively, you can open it in Google Colab:\n",
        "\n",
        "<a target=\"_blank\" href=\"https://colab.research.google.com/github/ContextualAI/ContextualAI-Examples/blob/main/python/dataset-api-example.ipynb\">\n",
        "  <img src=\"https://colab.research.google.com/assets/colab-badge.svg\" alt=\"Open In Colab\"/>\n",
        "</a>"
      ],
      "metadata": {
        "id": "gImhWnoXKWnR"
      }
    },
    {
      "cell_type": "markdown",
      "source": [
        "### Datasets\n",
        "To begin, you will need an API key to securely access the API. Please contact Contextual's sales team to get your API key."
      ],
      "metadata": {
        "id": "hTnb0Yn9LDrw"
      }
    },
    {
      "cell_type": "code",
      "execution_count": null,
      "metadata": {
        "id": "Og54CJhhm5ja"
      },
      "outputs": [],
      "source": [
        "\n",
        "\n",
        "import requests\n",
        "import json\n",
        "import string\n",
        "from typing import Dict, Optional\n",
        "from pathlib import Path\n",
        "import random\n",
        "\n",
        "# Configuration\n",
        "API_TOKEN = 'YOUR_API_TOKEN_HERE'  # Replace with your actual API token\n",
        "BASE_URL = 'https://api.contextual.ai/v1'\n",
        "\n",
        "\n",
        "def get_headers(content_type: str = \"application/json\") -> Dict[str, str]:\n",
        "    \"\"\"\n",
        "    Generate headers for API requests\n",
        "\n",
        "    Args:\n",
        "        content_type: Content type for the request\n",
        "\n",
        "    Returns:\n",
        "        Dictionary containing request headers\n",
        "    \"\"\"\n",
        "    return {\n",
        "        \"accept\": \"application/json\",\n",
        "        \"Content-Type\": content_type,\n",
        "        \"Authorization\": f\"Bearer {API_TOKEN}\"\n",
        "    }\n",
        "\n"
      ]
    },
    {
      "cell_type": "markdown",
      "source": [
        "### Create an Application"
      ],
      "metadata": {
        "id": "qX0eIV97xbbv"
      }
    },
    {
      "cell_type": "markdown",
      "source": [
        "You will need to first create an application."
      ],
      "metadata": {
        "id": "1MVZCawMNNv_"
      }
    },
    {
      "cell_type": "code",
      "source": [
        "def create_application():\n",
        "\n",
        "  url = f\"{BASE_URL}/applications\"\n",
        "\n",
        "  payload = {\n",
        "      \"name\": \"string\",\n",
        "      \"description\": \"string\",\n",
        "      \"system_prompt\": \"string\"\n",
        "  }\n",
        "  headers = {\n",
        "      \"accept\": \"application/json\",\n",
        "      \"content-type\": \"application/json\",\n",
        "      \"Authorization\": f\"Bearer {API_TOKEN}\",\n",
        "  }\n",
        "\n",
        "  response = requests.post(url, json=payload, headers=headers)\n",
        "  return json.loads(response.text)\n",
        "\n",
        "\n",
        "response = create_application()\n",
        "APPLICATION_ID = response['application_id']\n",
        "APPLICATION_ID"
      ],
      "metadata": {
        "colab": {
          "base_uri": "https://localhost:8080/",
          "height": 53
        },
        "id": "9bVlnhA2xaj6",
        "outputId": "577f6cdc-6ca0-4546-eb7f-1c69f089eeb7"
      },
      "execution_count": null,
      "outputs": [
        {
          "output_type": "stream",
          "name": "stdout",
          "text": [
            "<Response [200]>\n"
          ]
        },
        {
          "output_type": "execute_result",
          "data": {
            "text/plain": [
              "'053329f7-276c-4021-91c0-b6c6893f8458'"
            ],
            "application/vnd.google.colaboratory.intrinsic+json": {
              "type": "string"
            }
          },
          "metadata": {},
          "execution_count": 37
        }
      ]
    },
    {
      "cell_type": "markdown",
      "source": [
        "### Create a Dataset"
      ],
      "metadata": {
        "id": "vUTcbvdjxeCG"
      }
    },
    {
      "cell_type": "code",
      "source": [
        "dataset = [\n",
        "  {\n",
        "  \"prompt\": \"What is the concept of 'noumena' according to Kant?\",\n",
        "  \"knowledge\": [\n",
        "    \"Noumena are \\\"things-in-themselves\\\" - the true, fundamental nature of reality that exists independently of human perception and understanding. According to Kant, we can never directly experience or know noumena.\",\n",
        "    \"Kant contrasts noumena with phenomena (things as they appear to us). While we can observe and understand phenomena through our senses and mental categories, the underlying noumena remain forever inaccessible to human cognition.\"\n",
        "  ],\n",
        "  \"response\": \"According to Immanuel Kant, the concept of \\\"noumena\\\" (singular: \\\"noumenon\\\") refers to things as they are in themselves, independent of human perception or the conditions under which humans experience them.\"\n",
        "  },\n",
        "  {\n",
        "      \"prompt\": \"How does photosynthesis work in plants?\",\n",
        "      \"knowledge\": [\n",
        "          \"Photosynthesis is the process by which plants convert light energy into chemical energy stored in glucose and other organic compounds.\",\n",
        "          \"During photosynthesis, plants take in carbon dioxide from the air and water from the soil. Using sunlight, they transform these ingredients into glucose and oxygen.\",\n",
        "          \"The process occurs in the chloroplasts, specifically using the green pigment chlorophyll, which gives plants their green color.\"\n",
        "      ],\n",
        "      \"response\": \"Photosynthesis is the process where plants convert sunlight into energy. Plants use chlorophyll in their chloroplasts to transform carbon dioxide and water into glucose and oxygen using solar energy. This process is essential for producing both food for the plant and oxygen as a byproduct.\"\n",
        "  }\n",
        "]\n",
        "with open('dataset.jsonl', 'w') as f:\n",
        "    for item in dataset:\n",
        "        json_line = json.dumps(item)\n",
        "        f.write(json_line + '\\n')\n"
      ],
      "metadata": {
        "id": "NP8RBgUNtDjD"
      },
      "execution_count": null,
      "outputs": []
    },
    {
      "cell_type": "code",
      "source": [
        "def create_dataset(application_id: str, file_path: str, dataset_name: str, dataset_type: str):\n",
        "   url = f\"{BASE_URL}/applications/{application_id}/datasets\"\n",
        "   headers = {\n",
        "       \"accept\": \"application/json\",\n",
        "       \"Authorization\": f\"Bearer {API_TOKEN}\"\n",
        "   }\n",
        "\n",
        "   with open(file_path, 'rb') as f:\n",
        "       files = {\n",
        "           'file': f,\n",
        "           'dataset_name': (None, dataset_name),\n",
        "           'dataset_type': (None, dataset_type)\n",
        "       }\n",
        "       response = requests.post(url, headers=headers, files=files)\n",
        "       return response.json()\n",
        "\n",
        "\n",
        "def generate_dataset_name():\n",
        "  return f\"dataset_{''.join(random.choices(string.ascii_lowercase, k=3))}\"\n",
        "\n",
        "dataset_name = generate_dataset_name()\n",
        "\n",
        "# Example usage:\n",
        "result = create_dataset(\n",
        "    application_id=APPLICATION_ID,\n",
        "    file_path=\"dataset.jsonl\",\n",
        "    dataset_name=dataset_name,\n",
        "    dataset_type=\"grounded_generation_train\"\n",
        ")\n",
        "result"
      ],
      "metadata": {
        "colab": {
          "base_uri": "https://localhost:8080/"
        },
        "id": "b1i1NYwfqkI6",
        "outputId": "2b083915-afd9-496c-85da-d40e95ad5c3e"
      },
      "execution_count": null,
      "outputs": [
        {
          "output_type": "execute_result",
          "data": {
            "text/plain": [
              "{'version': '0000000001v0a6d6e5',\n",
              " 'name': 'dataset_mam',\n",
              " 'type': 'grounded_generation_train'}"
            ]
          },
          "metadata": {},
          "execution_count": 46
        }
      ]
    },
    {
      "cell_type": "markdown",
      "source": [
        "### Append to the Dataset"
      ],
      "metadata": {
        "id": "5ZNGCcC41-3z"
      }
    },
    {
      "cell_type": "code",
      "source": [
        "def update_dataset(application_id: str, file_path: str, dataset_name: str, dataset_type: str):\n",
        "   \"\"\"\n",
        "   Update an existing dataset\n",
        "\n",
        "   Args:\n",
        "       application_id: ID of the application\n",
        "       file_path: Path to the file to upload\n",
        "       dataset_name: Name of the dataset to update\n",
        "       dataset_type: Type of dataset\n",
        "\n",
        "   Returns:\n",
        "       API response as dictionary\n",
        "   \"\"\"\n",
        "   url = f\"{BASE_URL}/applications/{application_id}/datasets/{dataset_name}\"\n",
        "   headers = {\n",
        "       \"accept\": \"application/json\",\n",
        "       \"Authorization\": f\"Bearer {API_TOKEN}\"\n",
        "   }\n",
        "\n",
        "   with open(file_path, 'rb') as f:\n",
        "       files = {\n",
        "           'file': f,\n",
        "           'dataset_name': (None, dataset_name),\n",
        "           'dataset_type': (None, dataset_type)\n",
        "       }\n",
        "       response = requests.put(url, headers=headers, files=files)\n",
        "       return response.json()\n",
        "\n",
        "\n",
        "# Example usage:\n",
        "result = update_dataset(\n",
        "    application_id=APPLICATION_ID,\n",
        "    file_path=\"dataset.jsonl\",\n",
        "    dataset_name=dataset_name,\n",
        "    dataset_type=\"grounded_generation_train\"\n",
        ")\n",
        "result\n"
      ],
      "metadata": {
        "colab": {
          "base_uri": "https://localhost:8080/"
        },
        "id": "TPBbHMzanbP9",
        "outputId": "8893a68a-c454-4fb1-bb6b-8989895276d4"
      },
      "execution_count": null,
      "outputs": [
        {
          "output_type": "execute_result",
          "data": {
            "text/plain": [
              "{'version': '0000000002v8c756f21',\n",
              " 'name': 'dataset_mam',\n",
              " 'type': 'grounded_generation_train'}"
            ]
          },
          "metadata": {},
          "execution_count": 48
        }
      ]
    },
    {
      "cell_type": "markdown",
      "source": [
        "### Get Dataset Metadata"
      ],
      "metadata": {
        "id": "T-xAvoAQNXOw"
      }
    },
    {
      "cell_type": "code",
      "source": [
        "def get_dataset_metadata(application_id: str, dataset_name: str) -> Dict:\n",
        "    \"\"\"\n",
        "    Get metadata for a specific dataset\n",
        "\n",
        "    Args:\n",
        "        application_id: ID of the application\n",
        "        dataset_name: Name of the dataset\n",
        "\n",
        "    Returns:\n",
        "        API response as dictionary\n",
        "    \"\"\"\n",
        "    url = f\"{BASE_URL}/applications/{application_id}/datasets/{dataset_name}/metadata\"\n",
        "\n",
        "    try:\n",
        "        response = requests.get(url, headers=get_headers())\n",
        "        response.raise_for_status()\n",
        "        return response.json()\n",
        "    except Exception as e:\n",
        "        print(f\"Error retrieving dataset metadata: {str(e)}\")\n",
        "        raise\n",
        "\n",
        "result = get_dataset_metadata(\n",
        "    application_id=APPLICATION_ID,\n",
        "    dataset_name=dataset_name\n",
        ")\n",
        "result"
      ],
      "metadata": {
        "colab": {
          "base_uri": "https://localhost:8080/"
        },
        "id": "zYmGvraBnlBB",
        "outputId": "ade6949d-fde6-4072-8d26-9f9088509156"
      },
      "execution_count": null,
      "outputs": [
        {
          "output_type": "execute_result",
          "data": {
            "text/plain": [
              "{'version': '0000000002v8c756f21',\n",
              " 'type': 'grounded_generation_train',\n",
              " 'created_at': '2024-12-04T22:44:11.584291Z',\n",
              " 'status': 'validated',\n",
              " 'schema': {'prompt': 'text', 'response': 'text', 'knowledge': 'text'},\n",
              " 'num_samples': 4}"
            ]
          },
          "metadata": {},
          "execution_count": 59
        }
      ]
    },
    {
      "cell_type": "code",
      "source": [
        "def get_dataset(application_id: str, dataset_name: str, output_path: Optional[str] = None):\n",
        "   \"\"\"\n",
        "   Download a dataset\n",
        "\n",
        "   Args:\n",
        "       application_id: ID of the application\n",
        "       dataset_name: Name of the dataset to retrieve\n",
        "       output_path: Optional path to save the downloaded dataset\n",
        "   \"\"\"\n",
        "   url = f\"{BASE_URL}/applications/{application_id}/datasets/{dataset_name}\"\n",
        "   headers = {\n",
        "       \"accept\": \"application/json\",\n",
        "       \"Authorization\": f\"Bearer {API_TOKEN}\"\n",
        "   }\n",
        "\n",
        "   response = requests.get(url, headers=headers)\n",
        "\n",
        "   if output_path:\n",
        "       with open(output_path, 'wb') as f:\n",
        "           f.write(response.content)\n",
        "   return response\n",
        "\n",
        "\n",
        "result = get_dataset(\n",
        "    application_id=APPLICATION_ID,\n",
        "    dataset_name=dataset_name,\n",
        "    output_path=\"downloaded_dataset.csv\"\n",
        ")"
      ],
      "metadata": {
        "collapsed": true,
        "id": "0ewmX5c7ngbl"
      },
      "execution_count": null,
      "outputs": []
    },
    {
      "cell_type": "code",
      "source": [
        "with open(\"downloaded_dataset.csv\") as f:\n",
        "    print(f.read())"
      ],
      "metadata": {
        "colab": {
          "base_uri": "https://localhost:8080/"
        },
        "id": "tYDLNERT3W_f",
        "outputId": "12b9f487-64c8-4494-9a55-010f610da520"
      },
      "execution_count": null,
      "outputs": [
        {
          "output_type": "stream",
          "name": "stdout",
          "text": [
            "{\"prompt\": \"What is the concept of 'noumena' according to Kant?\", \"response\": \"According to Immanuel Kant, the concept of \\\"noumena\\\" (singular: \\\"noumenon\\\") refers to things as they are in themselves, independent of human perception or the conditions under which humans experience them.\", \"knowledge\": \"Noumena are \\\"things-in-themselves\\\" - the true, fundamental nature of reality that exists independently of human perception and understanding. According to Kant, we can never directly experience or know noumena. Kant contrasts noumena with phenomena (things as they appear to us). While we can observe and understand phenomena through our senses and mental categories, the underlying noumena remain forever inaccessible to human cognition.\"}\n",
            "{\"prompt\": \"How does photosynthesis work in plants?\", \"response\": \"Photosynthesis is the process where plants convert sunlight into energy. Plants use chlorophyll in their chloroplasts to transform carbon dioxide and water into glucose and oxygen using solar energy. This process is essential for producing both food for the plant and oxygen as a byproduct.\", \"knowledge\": \"Photosynthesis is the process by which plants convert light energy into chemical energy stored in glucose and other organic compounds. During photosynthesis, plants take in carbon dioxide from the air and water from the soil. Using sunlight, they transform these ingredients into glucose and oxygen. The process occurs in the chloroplasts, specifically using the green pigment chlorophyll, which gives plants their green color.\"}\n",
            "{\"prompt\": \"What is the concept of 'noumena' according to Kant?\", \"response\": \"According to Immanuel Kant, the concept of \\\"noumena\\\" (singular: \\\"noumenon\\\") refers to things as they are in themselves, independent of human perception or the conditions under which humans experience them.\", \"knowledge\": \"Noumena are \\\"things-in-themselves\\\" - the true, fundamental nature of reality that exists independently of human perception and understanding. According to Kant, we can never directly experience or know noumena. Kant contrasts noumena with phenomena (things as they appear to us). While we can observe and understand phenomena through our senses and mental categories, the underlying noumena remain forever inaccessible to human cognition.\"}\n",
            "{\"prompt\": \"How does photosynthesis work in plants?\", \"response\": \"Photosynthesis is the process where plants convert sunlight into energy. Plants use chlorophyll in their chloroplasts to transform carbon dioxide and water into glucose and oxygen using solar energy. This process is essential for producing both food for the plant and oxygen as a byproduct.\", \"knowledge\": \"Photosynthesis is the process by which plants convert light energy into chemical energy stored in glucose and other organic compounds. During photosynthesis, plants take in carbon dioxide from the air and water from the soil. Using sunlight, they transform these ingredients into glucose and oxygen. The process occurs in the chloroplasts, specifically using the green pigment chlorophyll, which gives plants their green color.\"}\n",
            "\n"
          ]
        }
      ]
    },
    {
      "cell_type": "markdown",
      "source": [
        "### Delete Dataset"
      ],
      "metadata": {
        "id": "1fZ2owcIJCka"
      }
    },
    {
      "cell_type": "code",
      "source": [
        "def delete_dataset(application_id: str, dataset_name: str) -> Dict:\n",
        "    \"\"\"\n",
        "    Delete a dataset\n",
        "\n",
        "    Args:\n",
        "        application_id: ID of the application\n",
        "        dataset_name: Name of the dataset to delete\n",
        "\n",
        "    Returns:\n",
        "        API response as dictionary\n",
        "    \"\"\"\n",
        "    url = f\"{BASE_URL}/applications/{application_id}/datasets/{dataset_name}\"\n",
        "\n",
        "    try:\n",
        "        response = requests.delete(url, headers=get_headers())\n",
        "        response.raise_for_status()\n",
        "        return response.json()\n",
        "    except Exception as e:\n",
        "        print(f\"Error deleting dataset: {str(e)}\")\n",
        "        raise\n",
        "\n",
        "result = delete_dataset(\n",
        "    application_id=APPLICATION_ID,\n",
        "    dataset_name=dataset_name\n",
        ")\n"
      ],
      "metadata": {
        "id": "ru9TXfqVnoxA"
      },
      "execution_count": null,
      "outputs": []
    },
    {
      "cell_type": "markdown",
      "source": [],
      "metadata": {
        "id": "LtTmXvPxKFXI"
      }
    },
    {
      "cell_type": "markdown",
      "source": [],
      "metadata": {
        "id": "nleZyOD3KGHg"
      }
    },
    {
      "cell_type": "code",
      "source": [
        "result"
      ],
      "metadata": {
        "colab": {
          "base_uri": "https://localhost:8080/"
        },
        "id": "TW9KSY1IJM-w",
        "outputId": "44961a17-55e4-4827-d21f-7fa14d9dbf59"
      },
      "execution_count": null,
      "outputs": [
        {
          "output_type": "execute_result",
          "data": {
            "text/plain": [
              "{}"
            ]
          },
          "metadata": {},
          "execution_count": 74
        }
      ]
    }
  ]
}