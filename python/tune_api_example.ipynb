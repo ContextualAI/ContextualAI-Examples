{
  "cells": [
    {
      "cell_type": "markdown",
      "metadata": {
        "id": "gImhWnoXKWnR"
      },
      "source": [
        "<img src=\"https://imagedelivery.net/Dr98IMl5gQ9tPkFM5JRcng/3e5f6fbd-9bc6-4aa1-368e-e8bb1d6ca100/Ultra\" alt=\"Image description\" width=\"160\" />\n",
        "\n",
        "Introduction to Contextual AI Platform\n",
        "\n",
        "The Contextual APIs provide a simple interface to our state-of-the-art Contextual Language Models (CLMs). Use this guide to learn the basics of how to create your first application programmatically. In this demo, we will be tuning and deploying a CLM.\n",
        "\n",
        "To run this notebook interactively, you can open it in Google Colab:\n",
        "\n",
        "<a target=\"_blank\" href=\"https://colab.research.google.com/github/ContextualAI/ContextualAI-Examples/blob/main/python/dataset-api-example.ipynb\">\n",
        "  <img src=\"https://colab.research.google.com/assets/colab-badge.svg\" alt=\"Open In Colab\"/>\n",
        "</a>"
      ]
    },
    {
      "cell_type": "markdown",
      "metadata": {
        "id": "hTnb0Yn9LDrw"
      },
      "source": [
        "### Datasets\n",
        "To begin, you will need an API key to securely access the API. Please contact Contextual's sales team to get your API key."
      ]
    },
    {
      "cell_type": "code",
      "execution_count": 3,
      "metadata": {
        "id": "Og54CJhhm5ja"
      },
      "outputs": [],
      "source": [
        "\n",
        "\n",
        "import requests\n",
        "import json\n",
        "import string\n",
        "from typing import Dict, Optional\n",
        "from pathlib import Path\n",
        "import random\n",
        "\n",
        "# Configuration\n",
        "API_TOKEN = 'key-WSBcfgCgL8J_dST66R6CNEyO6gYhvKjLlFlfgSqkVNIVkV75U'  # Replace with your actual API token\n",
        "BASE_URL = 'https://api.contextual.ai/v1'\n",
        "BASE_URL = 'https://api.staging.ctxl.dev/v1'\n",
        "\n",
        "\n",
        "def get_headers(content_type: str = \"application/json\") -> Dict[str, str]:\n",
        "    \"\"\"\n",
        "    Generate headers for API requests\n",
        "\n",
        "    Args:\n",
        "        content_type: Content type for the request\n",
        "\n",
        "    Returns:\n",
        "        Dictionary containing request headers\n",
        "    \"\"\"\n",
        "    return {\n",
        "        \"accept\": \"application/json\",\n",
        "        \"Content-Type\": content_type,\n",
        "        \"Authorization\": f\"Bearer {API_TOKEN}\"\n",
        "    }\n",
        "\n"
      ]
    },
    {
      "cell_type": "markdown",
      "metadata": {
        "id": "qX0eIV97xbbv"
      },
      "source": [
        "### Create an Application"
      ]
    },
    {
      "cell_type": "markdown",
      "metadata": {
        "id": "1MVZCawMNNv_"
      },
      "source": [
        "You will need to first create an application."
      ]
    },
    {
      "cell_type": "code",
      "execution_count": 2,
      "metadata": {
        "colab": {
          "base_uri": "https://localhost:8080/",
          "height": 35
        },
        "id": "9bVlnhA2xaj6",
        "outputId": "8dcba9c8-b0d1-4bb9-d345-22b5cce5bae0"
      },
      "outputs": [
        {
          "output_type": "execute_result",
          "data": {
            "text/plain": [
              "'3ce0f31f-b262-4de6-aad8-411c5016b4ac'"
            ],
            "application/vnd.google.colaboratory.intrinsic+json": {
              "type": "string"
            }
          },
          "metadata": {},
          "execution_count": 2
        }
      ],
      "source": [
        "def create_application():\n",
        "\n",
        "  url = f\"{BASE_URL}/applications\"\n",
        "\n",
        "  payload = {\n",
        "      \"name\": \"string\",\n",
        "      \"description\": \"string\",\n",
        "      \"system_prompt\": \"string\"\n",
        "  }\n",
        "  headers = {\n",
        "      \"accept\": \"application/json\",\n",
        "      \"content-type\": \"application/json\",\n",
        "      \"Authorization\": f\"Bearer {API_TOKEN}\",\n",
        "  }\n",
        "\n",
        "  response = requests.post(url, json=payload, headers=headers)\n",
        "  return json.loads(response.text)\n",
        "\n",
        "\n",
        "response = create_application()\n",
        "APPLICATION_ID = response['application_id']\n",
        "APPLICATION_ID"
      ]
    },
    {
      "cell_type": "markdown",
      "metadata": {
        "id": "vUTcbvdjxeCG"
      },
      "source": [
        "### Dataset"
      ]
    },
    {
      "cell_type": "markdown",
      "source": [],
      "metadata": {
        "id": "3slQWKJrQvgG"
      }
    },
    {
      "cell_type": "code",
      "execution_count": 3,
      "metadata": {
        "id": "b1i1NYwfqkI6"
      },
      "outputs": [],
      "source": [
        "import requests\n",
        "\n",
        "def download_file_from_gdrive(file_id, output_file):\n",
        "   # Direct download URL format for Google Drive\n",
        "   url = f\"https://drive.google.com/uc?export=download&id={file_id}\"\n",
        "\n",
        "   response = requests.get(url)\n",
        "   with open(output_file, 'wb') as f:\n",
        "       f.write(response.content)\n",
        "\n",
        "# Extract file ID from the URL\n",
        "file_id = \"1MlsscmU9gtbCrZk3C_CNbCDvEkQ7AhUM\"\n",
        "\n",
        "# Download the file\n",
        "download_file_from_gdrive(file_id, \"dataset.jsonl\")"
      ]
    },
    {
      "cell_type": "markdown",
      "metadata": {
        "id": "5ZNGCcC41-3z"
      },
      "source": [
        "### Tune a model"
      ]
    },
    {
      "cell_type": "markdown",
      "source": [
        "Create a tuning job for the specified Application. Tuning jobs are asynchronous tasks to specialize your Application to your specific domain or use case.\n",
        "\n",
        "This API initiates a tuning specialization task using the provided `training_file` and an optional `test_file`. If no test_file is provided, the tuning job will hold out a portion of the training_file as the test set.\n",
        "\n",
        "Returns a tune job id which can be used to check on the status of your tuning task through the GET `/tune/jobs/{job_id}/metadata` endpoint.\n",
        "\n",
        "After the tune job completes, the metadata associated with the tune job will include evaluation results and a model ID."
      ],
      "metadata": {
        "id": "B89_JVWIUF2O"
      }
    },
    {
      "cell_type": "code",
      "execution_count": 5,
      "metadata": {
        "id": "TW9KSY1IJM-w"
      },
      "outputs": [],
      "source": [
        "def tune_application(application_id: str, training_file: str):\n",
        "   \"\"\"\n",
        "   Tune application with training data file\n",
        "\n",
        "   Args:\n",
        "       application_id: ID of application to tune\n",
        "       training_file: Path to JSON training data file with format:\n",
        "           [{\"guideline\": str, \"prompt\": str, \"response\": str, \"knowledge\": List[str]}]\n",
        "\n",
        "   Returns:\n",
        "       dict: API response\n",
        "   \"\"\"\n",
        "   url = f\"{BASE_URL}/applications/{application_id}/tune\"\n",
        "   headers = {\n",
        "       \"accept\": \"application/json\",\n",
        "       \"Authorization\": f\"Bearer {API_TOKEN}\"\n",
        "   }\n",
        "\n",
        "   with open(training_file, 'rb') as f:\n",
        "       files = {'training_file': f}\n",
        "       response = requests.post(url, headers=headers, files=files)\n",
        "       return response.json()"
      ]
    },
    {
      "cell_type": "code",
      "source": [
        "job_id = tune_application(APPLICATION_ID, \"dataset.jsonl\")"
      ],
      "metadata": {
        "colab": {
          "base_uri": "https://localhost:8080/"
        },
        "id": "Se6wRpNAT80m",
        "outputId": "0b1d6023-ed99-408e-e3ba-c2f4d7720843"
      },
      "execution_count": 6,
      "outputs": [
        {
          "output_type": "execute_result",
          "data": {
            "text/plain": [
              "{'id': 'b7d6aa16-f335-4305-855f-d3c7f0bd931d'}"
            ]
          },
          "metadata": {},
          "execution_count": 6
        }
      ]
    },
    {
      "cell_type": "markdown",
      "source": [
        "## Check the status\n"
      ],
      "metadata": {
        "id": "tkWVuHeRUWBg"
      }
    },
    {
      "cell_type": "markdown",
      "source": [
        "You can check the status of the job using the API. For more information, please see the API docs. When the job is complete, the status will turn to completed. The response payload will also contain evaluation_results ."
      ],
      "metadata": {
        "id": "mNxQb0mFVSEO"
      }
    },
    {
      "cell_type": "code",
      "source": [
        "def get_tune_job_metadata(application_id: str, job_id: str):\n",
        "   \"\"\"Get metadata for a specific tuning job\"\"\"\n",
        "   url = f\"{BASE_URL}/applications/{application_id}/tune/jobs/{job_id}/metadata\"\n",
        "   headers = {\n",
        "       \"accept\": \"application/json\",\n",
        "       \"Authorization\": f\"Bearer {API_TOKEN}\"\n",
        "   }\n",
        "   response = requests.get(url, headers=headers)\n",
        "   return response.json()\n",
        "\n",
        "\n",
        "result = get_tune_job_metadata(APPLICATION_ID, job_id['id'])"
      ],
      "metadata": {
        "id": "S6mSsqM0T8ag"
      },
      "execution_count": 6,
      "outputs": []
    },
    {
      "cell_type": "markdown",
      "source": [
        "When the job is complete, the metadata would look like the following:\n",
        "```\n",
        "{'job_status': 'completed',\n",
        " 'evaluation_results': {'grounded_generation_train_test.json_equivalence': 1.0,\n",
        "  'grounded_generation_train_test.json_helpfulness': 0.814156498263641,\n",
        "  'grounded_generation_train_test.json_groundedness': 0.7781168677598632},\n",
        " 'model_id': 'registry/model-ada3c484-3ce0f31f-llm-fd6c2'}\n",
        " ```"
      ],
      "metadata": {
        "id": "Ci-pK62D6XZd"
      }
    },
    {
      "cell_type": "code",
      "source": [
        "model_id = result['model_id']\n",
        "model_id"
      ],
      "metadata": {
        "colab": {
          "base_uri": "https://localhost:8080/",
          "height": 35
        },
        "id": "bjKq95Do6Wfp",
        "outputId": "3543c898-4639-49d5-9ff9-08b464676c0b"
      },
      "execution_count": 7,
      "outputs": [
        {
          "output_type": "execute_result",
          "data": {
            "text/plain": [
              "'registry/model-ada3c484-3ce0f31f-llm-fd6c2'"
            ],
            "application/vnd.google.colaboratory.intrinsic+json": {
              "type": "string"
            }
          },
          "metadata": {},
          "execution_count": 7
        }
      ]
    },
    {
      "cell_type": "markdown",
      "source": [
        "### Update the Application"
      ],
      "metadata": {
        "id": "A5X2x7_rWYmR"
      }
    },
    {
      "cell_type": "markdown",
      "source": [
        "Once the tuned job is complete, you can deploy the tuned model via editing the application through API. Note that currently a single fine-tuned model deployment is allowed per tenant. Please see the API doc for more information."
      ],
      "metadata": {
        "id": "BNvqXjMRWcej"
      }
    },
    {
      "cell_type": "code",
      "source": [
        "def update_application(application_id: str, llm_model_id: str):\n",
        "   \"\"\"Update application's LLM model\"\"\"\n",
        "   url = f\"{BASE_URL}/applications/{application_id}\"\n",
        "   headers = {\n",
        "       \"accept\": \"application/json\",\n",
        "       \"content-type\": \"application/json\",\n",
        "       \"Authorization\": f\"Bearer {API_TOKEN}\"\n",
        "   }\n",
        "   data = {\"llm_model_id\": llm_model_id}\n",
        "   response = requests.put(url, headers=headers, json=data)\n",
        "   return response.json()"
      ],
      "metadata": {
        "id": "G_GeekVjVO05"
      },
      "execution_count": null,
      "outputs": []
    },
    {
      "cell_type": "code",
      "source": [
        "#update_application(APPLICATION_ID, model_id)\n",
        "update_application('3ce0f31f-b262-4de6-aad8-411c5016b4ac', model_id)"
      ],
      "metadata": {
        "id": "6Kc1ewJlZC87"
      },
      "execution_count": null,
      "outputs": []
    }
  ],
  "metadata": {
    "colab": {
      "provenance": []
    },
    "kernelspec": {
      "display_name": "Python 3",
      "name": "python3"
    },
    "language_info": {
      "name": "python"
    }
  },
  "nbformat": 4,
  "nbformat_minor": 0
}