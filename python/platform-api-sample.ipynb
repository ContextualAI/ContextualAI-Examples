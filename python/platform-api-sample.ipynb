{
 "cells": [
  {
   "cell_type": "markdown",
   "metadata": {
    "id": "8iPJnDH0HhXB"
   },
   "source": [
    "<img src=\"https://imagedelivery.net/Dr98IMl5gQ9tPkFM5JRcng/3e5f6fbd-9bc6-4aa1-368e-e8bb1d6ca100/Ultra\" alt=\"Image description\" width=\"160\" />\n",
    "\n",
    "<br/>\n",
    "\n",
    "# Introduction to Contextual AI Platform\n",
    "\n",
    "The Contextual APIs provide a simple interface to our state-of-the-art Contextual Language Models (CLMs). Use this guide to learn the basics of how to create your first application programmatically. In this demo, we will be creating a RAG application for financial documents.\n",
    "\n",
    "To run this notebook interactively, you can open it in Google Colab:\n",
    "\n",
    "<a target=\"_blank\" href=\"https://colab.research.google.com/github/ContextualAI/ContextualAI-Examples/blob/main/python/platform-api-sample.ipynb\">\n",
    "  <img src=\"https://colab.research.google.com/assets/colab-badge.svg\" alt=\"Open In Colab\"/>\n",
    "</a>"
   ]
  },
  {
   "cell_type": "markdown",
   "metadata": {
    "id": "czJ6eN8OHxhj"
   },
   "source": [
    "## Setup of Libraries, API, Dataset\n",
    "\n",
    "To begin, you will need an API key to securely access the API. Please contact Contextual's sales team to get your API key."
   ]
  },
  {
   "cell_type": "code",
   "execution_count": null,
   "metadata": {
    "id": "4wJG66VTIQvO"
   },
   "outputs": [],
   "source": [
    "# Set up your API key\n",
    "API_KEY = 'PASTE_YOUR_API_KEY_HERE'"
   ]
  },
  {
   "cell_type": "code",
   "execution_count": null,
   "metadata": {
    "id": "1AeByb1uHm9P"
   },
   "outputs": [],
   "source": [
    "REQUEST_URL = 'https://api.contextual.ai/v1'"
   ]
  },
  {
   "cell_type": "code",
   "execution_count": null,
   "metadata": {
    "id": "FV52HrlPLWIF"
   },
   "outputs": [],
   "source": [
    "# Import libraries\n",
    "import requests\n",
    "import json\n",
    "from pathlib import Path\n",
    "from typing import List, Optional, Dict\n",
    "from IPython.display import display, JSON"
   ]
  },
  {
   "cell_type": "code",
   "execution_count": null,
   "metadata": {
    "id": "IhviooO2LauS"
   },
   "outputs": [],
   "source": [
    "# Helper function to define headers for API calls\n",
    "def get_headers(content_type: str = \"application/json\") -> Dict[str, str]:\n",
    "    \"\"\"\n",
    "    Generate headers for API requests\n",
    "    \"\"\"\n",
    "    return {\n",
    "        \"accept\": \"application/json\",\n",
    "        \"Content-Type\": content_type,\n",
    "        \"Authorization\": f\"Bearer {API_KEY}\"\n",
    "    }"
   ]
  },
  {
   "cell_type": "markdown",
   "metadata": {
    "id": "lcqh_-j1MzCn"
   },
   "source": [
    "## Step 1: Create your Datastore\n",
    "\n",
    "\n",
    "You will need to first create a datastore for your Application using the  /datastores endpoint.  Each Application will have it's own datastore where the Application data will be stored securely."
   ]
  },
  {
   "cell_type": "code",
   "execution_count": null,
   "metadata": {
    "id": "tb-cMb-gMUD2"
   },
   "outputs": [],
   "source": [
    "def create_datastore(name: str) -> Dict:\n",
    "    \"\"\"\n",
    "    Create a new datastore using the Contextual AI API.\n",
    "\n",
    "    Args:\n",
    "        name: Name of the datastore\n",
    "\n",
    "    Returns:\n",
    "        Dict: The JSON response from the API\n",
    "    \"\"\"\n",
    "    url = f\"{REQUEST_URL}/datastores\"\n",
    "\n",
    "    payload = {\"name\": name}\n",
    "\n",
    "    try:\n",
    "        response = requests.post(url, headers=get_headers(), json=payload)\n",
    "        response.raise_for_status()\n",
    "        return response.json()\n",
    "\n",
    "    except requests.exceptions.RequestException as e:\n",
    "        print(f\"Error creating datastore: {e}\")\n",
    "        raise"
   ]
  },
  {
   "cell_type": "code",
   "execution_count": null,
   "metadata": {
    "id": "wlulbIvjdbZA"
   },
   "outputs": [],
   "source": [
    "try:\n",
    "    result = create_datastore(name=\"new_demo_datastore\") #TODO: Set a name for your datastore\n",
    "    datastore_id = result['id']\n",
    "    print(f\"Datastore ID: {datastore_id}\")\n",
    "except Exception as e:\n",
    "    print(f\"Failed to create datastore: {e}\")"
   ]
  },
  {
   "cell_type": "markdown",
   "metadata": {
    "id": "_IkAep8Vf29_"
   },
   "source": [
    "## Step 2: Ingest documents into your datastore\n",
    "\n",
    "You can now ingest documents into your Application's datastore using the /datastores endpoint. We've provided a sample document for you to use (Apple's 2023Q1 10-Q filing). You can also use your own documents here."
   ]
  },
  {
   "cell_type": "code",
   "execution_count": null,
   "metadata": {
    "id": "S0jaP0v1poOJ"
   },
   "outputs": [],
   "source": [
    "# Function to download data from Google Drive\n",
    "def download_google_drive_pdf(url: str, output_path: str):\n",
    "   \"\"\"\n",
    "   Download a PDF from Google Drive using the file ID\n",
    "   \"\"\"\n",
    "   response = requests.get(url)\n",
    "   response.raise_for_status()\n",
    "   with open(output_path, 'wb') as f:\n",
    "       f.write(response.content)\n",
    "   print(f\"Downloaded {output_path}\")\n",
    "\n",
    "   file_path = Path(output_path).absolute()\n",
    "   return str(file_path)"
   ]
  },
  {
   "cell_type": "code",
   "execution_count": null,
   "metadata": {
    "id": "9K0CMyZ2p-e5"
   },
   "outputs": [],
   "source": [
    "# Download sample data from Google Drive\n",
    "file_path = download_google_drive_pdf(\n",
    "    \"https://drive.google.com/uc?export=download&id=1k4C-o7mLEmthbeyhccNEjYrQb10UFOfT\",\n",
    "    \"2023_Q1_APPLE.pdf\"\n",
    ")"
   ]
  },
  {
   "cell_type": "code",
   "execution_count": null,
   "metadata": {
    "id": "8OBeqkJOqEck"
   },
   "outputs": [],
   "source": [
    "def ingest_file_to_datastore(datastore_id: str, file_path: str):\n",
    "   \"\"\"\n",
    "   Upload a local file to Contextual AI datastore\n",
    "\n",
    "   Args:\n",
    "       datastore_id: ID of the target datastore\n",
    "       file_path: Path to local file to upload\n",
    "   \"\"\"\n",
    "   try:\n",
    "       url = f\"{REQUEST_URL}/datastores/{datastore_id}/documents\"\n",
    "\n",
    "       with open(file_path, 'rb') as f:\n",
    "           response = requests.post(\n",
    "               url,\n",
    "               headers={\n",
    "                   'accept': 'application/json',\n",
    "                   'authorization': f\"Bearer {API_KEY}\"\n",
    "               },\n",
    "               files={'file': f}\n",
    "           )\n",
    "           response.raise_for_status()\n",
    "           print(f\"Successfully uploaded {file_path} to datastore {datastore_id}\")\n",
    "           return response.json()\n",
    "\n",
    "   except requests.exceptions.RequestException as e:\n",
    "       print(f\"Upload failed: {str(e)}\")\n",
    "       raise"
   ]
  },
  {
   "cell_type": "code",
   "execution_count": null,
   "metadata": {
    "id": "IOBqQWf5qV9J"
   },
   "outputs": [],
   "source": [
    "ingest_file_to_datastore(datastore_id, file_path)"
   ]
  },
  {
   "cell_type": "markdown",
   "metadata": {
    "id": "IcTyR5QeHw7z"
   },
   "source": [
    "## Step 3: Create your Application\n",
    "\n",
    "Now, you can use the `/applications` endpoint to create your Application and link it to the datastore."
   ]
  },
  {
   "cell_type": "code",
   "execution_count": null,
   "metadata": {
    "id": "B1dnTQZDKLP3"
   },
   "outputs": [],
   "source": [
    "def create_application(\n",
    "    name: str,\n",
    "    description: str,\n",
    "    system_guidelines: Optional[str] = None,\n",
    "    datastore_ids: Optional[List[str]] = None\n",
    ") -> Dict:\n",
    "    \"\"\"\n",
    "    Create a new application in Contextual AI\n",
    "\n",
    "    Args:\n",
    "        name: Name of the application\n",
    "        description: Description of the application\n",
    "        system_guidelines: Guidelines for the system\n",
    "        datastore_ids: Optional list of datastore IDs\n",
    "\n",
    "    Returns:\n",
    "        JSON response from the API\n",
    "    \"\"\"\n",
    "    url = f\"{REQUEST_URL}/applications\"\n",
    "\n",
    "    payload = {\n",
    "        \"name\": name,\n",
    "        \"description\": description,\n",
    "        \"system_guidelines\": system_guidelines,\n",
    "        \"datastore_ids\": datastore_ids or []\n",
    "    }\n",
    "\n",
    "    response = requests.post(\n",
    "        url,\n",
    "        headers=get_headers(),\n",
    "        json=payload\n",
    "    )\n",
    "    response.raise_for_status()\n",
    "    return response.json()"
   ]
  },
  {
   "cell_type": "code",
   "execution_count": null,
   "metadata": {
    "id": "r5jsWXpBPLtx"
   },
   "outputs": [],
   "source": [
    "# Sample system guideline\n",
    "sample_guideline = '''\n",
    "You are an AI assistant specialized in financial analysis and reporting. Your responses should be precise, accurate, and sourced exclusively from official financial documentation provided to you. Please follow these guidelines:\n",
    "\n",
    "Data Analysis & Response Quality:\n",
    "* Only use information explicitly stated in provided documentation (e.g., earnings releases, financial statements, investor presentations)\n",
    "* Present comparative analyses using structured formats with tables and bullet points where appropriate\n",
    "* Include specific period-over-period comparisons (quarter-over-quarter, year-over-year) when relevant\n",
    "* Maintain consistency in numerical presentations (e.g., consistent units, decimal places)\n",
    "* Flag any one-time items or special charges that impact comparability\n",
    "\n",
    "Technical Accuracy:\n",
    "* Use industry-standard financial terminology\n",
    "* Define specialized acronyms on first use\n",
    "* Never interchange distinct financial terms (e.g., revenue, profit, income, cash flow)\n",
    "* Always include units with numerical values\n",
    "* Pay attention to fiscal vs. calendar year distinctions\n",
    "* Present monetary values with appropriate scale (millions/billions)\n",
    "\n",
    "Response Format:\n",
    "* Begin with a high-level summary of key findings when analyzing data\n",
    "* Structure detailed analyses in clear, hierarchical formats\n",
    "* Use markdown for lists, tables, and emphasized text\n",
    "* Maintain a professional, analytical tone\n",
    "* Present quantitative data in consistent formats (e.g., basis points for ratios)\n",
    "\n",
    "Critical Guidelines:\n",
    "* Do not make forward-looking projections unless directly quoted from source materials\n",
    "* Avoid opinions, speculation, or assumptions\n",
    "* If information is unavailable or irrelevant, clearly state this without additional commentary\n",
    "* Answer questions directly, then stop\n",
    "* Do not reference source document names or file types in responses\n",
    "* Focus only on information that directly answers the query\n",
    "\n",
    "For any analysis, provide comprehensive insights using all relevant available information while maintaining strict adherence to these guidelines and focusing on delivering clear, actionable information.\n",
    "'''\n"
   ]
  },
  {
   "cell_type": "code",
   "execution_count": null,
   "metadata": {
    "id": "ymCcfHR1Lra6"
   },
   "outputs": [],
   "source": [
    "# Now let's try creating an application\n",
    "try:\n",
    "    app_response = create_application(\n",
    "        name=\"Financial Analysis RAG v9\",\n",
    "        description=\"Application for analyzing the SEC filings of major companies\",\n",
    "        system_guidelines=sample_guideline,\n",
    "        datastore_ids=[datastore_id]\n",
    "    )\n",
    "    # Store application ID for later use\n",
    "    application_id = app_response['id']\n",
    "    print(f\"Application ID created: {application_id}\")\n",
    "except requests.exceptions.RequestException as e:\n",
    "    print(f\"Error creating application: {e}\")"
   ]
  },
  {
   "cell_type": "markdown",
   "metadata": {
    "id": "WFq4oMe9gMuz"
   },
   "source": [
    "## Step 4: Query your Application\n",
    "\n",
    "Finally, let's query our application to see if its working."
   ]
  },
  {
   "cell_type": "code",
   "execution_count": null,
   "metadata": {
    "id": "b-6NVbr5gPBx"
   },
   "outputs": [],
   "source": [
    "def query_application(\n",
    "   application_id: str,\n",
    "   messages: List[Dict[str, str]],\n",
    "   model_id: Optional[str] = None,\n",
    "   conversation_id: Optional[str] = None,\n",
    "   stream: bool = False\n",
    "):\n",
    "   \"\"\"\n",
    "   Query a Contextual AI application\n",
    "\n",
    "   Args:\n",
    "       application_id: Application ID of the application to query\n",
    "       messages: List of message dictionaries with 'content' and 'role' keys\n",
    "       model_id: Optional model ID for specific fine-tuned model\n",
    "       conversation_id: Optional conversation ID for message history\n",
    "       stream: Whether to stream the response\n",
    "   \"\"\"\n",
    "   try:\n",
    "       url = f\"{REQUEST_URL}/applications/{application_id}/query\"\n",
    "\n",
    "       payload = {\n",
    "           \"messages\": messages,\n",
    "           \"stream\": stream\n",
    "       }\n",
    "\n",
    "       if model_id:\n",
    "           payload[\"model_id\"] = model_id\n",
    "       if conversation_id:\n",
    "           payload[\"conversation_id\"] = conversation_id\n",
    "\n",
    "       response = requests.post(\n",
    "           url,\n",
    "           headers=get_headers(),\n",
    "           json=payload\n",
    "       )\n",
    "       response.raise_for_status()\n",
    "       return response.json()\n",
    "\n",
    "   except requests.exceptions.RequestException as e:\n",
    "       print(f\"Query failed: {str(e)}\")\n",
    "       raise"
   ]
  },
  {
   "cell_type": "markdown",
   "metadata": {
    "id": "QOW94UdMySbp"
   },
   "source": [
    "**Note:** It may take a few minutes for the document to be ingested and processed."
   ]
  },
  {
   "cell_type": "code",
   "execution_count": null,
   "metadata": {
    "id": "wE4d616-rseT"
   },
   "outputs": [],
   "source": [
    "result = query_application(\n",
    "    application_id=application_id,\n",
    "    messages=[{\n",
    "        # Input your question here\n",
    "        \"content\": \"What is Apple Inc's revenue?\",\n",
    "        \"role\": \"user\",\n",
    "    }]\n",
    ")\n",
    "\n",
    "print(result[\"message\"][\"content\"])"
   ]
  },
  {
   "cell_type": "code",
   "execution_count": null,
   "metadata": {
    "id": "lJsrVToFy3S9"
   },
   "outputs": [],
   "source": [
    "result = query_application(\n",
    "    application_id=application_id,\n",
    "    messages=[{\n",
    "        # Input your question here\n",
    "        \"content\": \"What is Apple's net income in billions (not millions)?\",\n",
    "        \"role\": \"user\",\n",
    "    }]\n",
    ")\n",
    "\n",
    "print(result[\"message\"][\"content\"])"
   ]
  },
  {
   "cell_type": "code",
   "execution_count": null,
   "metadata": {
    "id": "hnuqTbNC2yWq"
   },
   "outputs": [],
   "source": [
    "result = query_application(\n",
    "    application_id=application_id,\n",
    "    messages=[{\n",
    "        # Input your question here\n",
    "        \"content\": \"What is the value of Apple's non-current assets?\",\n",
    "        \"role\": \"user\",\n",
    "    }]\n",
    ")\n",
    "\n",
    "print(result[\"message\"][\"content\"])"
   ]
  },
  {
   "cell_type": "markdown",
   "metadata": {
    "id": "yKAmujbKgUBj"
   },
   "source": [
    "## Next Steps\n",
    "\n",
    "In this Notebook, we've created a simple RAG application in the finance domain. Our APIs offer many more capabilities than what is shown in this Notebook, including the ability to tune and evaluate your RAG system. You can learn more at [docs.contextual.ai](https://docs.contextual.ai/)"
   ]
  }
 ],
 "metadata": {
  "colab": {
   "provenance": []
  },
  "kernelspec": {
   "display_name": "Python 3",
   "name": "python3"
  },
  "language_info": {
   "name": "python"
  }
 },
 "nbformat": 4,
 "nbformat_minor": 0
}
